{
 "cells": [
  {
   "attachments": {},
   "cell_type": "markdown",
   "metadata": {},
   "source": [
    "# Experimentos\n",
    "\n",
    "Los experimentos se harán en una cuadrilla $[0,1]^2$, para esto, los puntos se intersan aleatoriamente dentro del dominio. \n",
    "\n",
    "Se define la función **move_point** para mover los puntos muy cercanos al borde por un $\\epsilon$, y se insertan en el borde cercano\n",
    "\n",
    "Luego se eliminan los puntos repetidos y la wea.\n",
    "\n",
    "![image info](https://cdn.shopify.com/s/files/1/0414/9228/3547/files/quienes01.jpg?v=1614317195)"
   ]
  },
  {
   "cell_type": "code",
   "execution_count": 1,
   "metadata": {},
   "outputs": [],
   "source": [
    "import numpy as np\n",
    "import matplotlib.pyplot as plt\n",
    "from matplotlib.collections import PatchCollection\n",
    "from scipy.stats import qmc\n",
    "from scipy.spatial import Delaunay\n",
    "import matplotlib.tri as tri\n",
    "\n",
    "#Aux functions for generate samples\n",
    "def move_point(max_number, xPoint , yPoint, tolerance):\n",
    "    r =  np.random.uniform(0, 1)\n",
    "    n = max_number\n",
    "    if r > 0.5:\n",
    "        if xPoint >= max_number*(1.0-tolerance): \n",
    "            xPoint = n\n",
    "        if yPoint >= max_number*(1.0-tolerance): \n",
    "            yPoint = n\n",
    "        if xPoint <= max_number*tolerance: \n",
    "            xPoint = 0\n",
    "        if yPoint <= max_number*tolerance: \n",
    "            yPoint = 0\n",
    "    else:\n",
    "        if xPoint <= max_number*tolerance: \n",
    "            xPoint = 0            \n",
    "        if yPoint <= max_number*tolerance: \n",
    "            yPoint = 0\n",
    "        if xPoint >= max_number*(1.0-tolerance): \n",
    "            xPoint = n\n",
    "        if yPoint >= max_number*(1.0-tolerance): \n",
    "            yPoint = n\n",
    "    #print(\"returning\", xPoint, yPoint)\n",
    "    return (xPoint, yPoint)\n",
    "\n",
    "def add_box(arr, tolerance):\n",
    "    box = [[0, 0], [1, 1], [0, 1], [1, 0]]\n",
    "    arr = np.append(arr, box, axis=0)\n",
    "    np.unique(arr, axis=0)\n",
    "\n",
    "    maxNumber = max(max(arr[:,0]), max(arr[:,1]))\n",
    "    for i in range(0, len(arr)):\n",
    "        new_p = move_point(1, arr[i,0], arr[i,1], tolerance)\n",
    "        arr[i,0] = new_p[0]\n",
    "        arr[i,1] = new_p[1]\n",
    "    return arr\n",
    "\n",
    "np.random.seed(545)\n",
    "rng = 4554"
   ]
  },
  {
   "attachments": {},
   "cell_type": "markdown",
   "metadata": {},
   "source": [
    "# Random point generation"
   ]
  },
  {
   "cell_type": "code",
   "execution_count": 2,
   "metadata": {},
   "outputs": [],
   "source": [
    "numVertices = 1000000\n",
    "tolerance = 0.001\n",
    "\n",
    "RandomSample = np.random.rand(numVertices - 4,2)\n",
    "RandomSample = add_box(RandomSample, tolerance)\n",
    "\n",
    "randomDelaunay = Delaunay(RandomSample)\n",
    "#plt.triplot(RandomSample[:,0], RandomSample[:,1], randomDelaunay.simplices.copy())\n",
    "#plt.show()\n",
    "print(\"Number of points: \", len(RandomSample))\n",
    "\n",
    "randomPoints = RandomSample\n",
    "randomTriangles =  [(\"triangle\", randomDelaunay.simplices)]\n"
   ]
  },
  {
   "cell_type": "code",
   "execution_count": null,
   "metadata": {},
   "outputs": [
    {
     "name": "stdout",
     "output_type": "stream",
     "text": [
      "Number of points:  1000002\n"
     ]
    }
   ],
   "source": [
    "print(\"Number of points: \", len(RandomSample))"
   ]
  },
  {
   "attachments": {},
   "cell_type": "markdown",
   "metadata": {},
   "source": [
    "# Print meshes\n",
    "\n",
    "We uses meshio to print the wea"
   ]
  },
  {
   "cell_type": "code",
   "execution_count": 2,
   "metadata": {},
   "outputs": [
    {
     "ename": "NameError",
     "evalue": "name 'RandomSample' is not defined",
     "output_type": "error",
     "traceback": [
      "\u001b[0;31m---------------------------------------------------------------------------\u001b[0m",
      "\u001b[0;31mNameError\u001b[0m                                 Traceback (most recent call last)",
      "Cell \u001b[0;32mIn[2], line 4\u001b[0m\n\u001b[1;32m      1\u001b[0m \u001b[39mimport\u001b[39;00m \u001b[39mmeshio\u001b[39;00m\n\u001b[1;32m      3\u001b[0m \u001b[39m#writte .OFF files\u001b[39;00m\n\u001b[0;32m----> 4\u001b[0m meshio\u001b[39m.\u001b[39mwrite_points_cells(\u001b[39mstr\u001b[39m(\u001b[39mlen\u001b[39m(RandomSample)) \u001b[39m+\u001b[39m \u001b[39m\"\u001b[39m\u001b[39m_random.off\u001b[39m\u001b[39m\"\u001b[39m, RandomSample, randomTriangles)\n\u001b[1;32m      5\u001b[0m \u001b[39mprint\u001b[39m(\u001b[39mstr\u001b[39m(\u001b[39mlen\u001b[39m(RandomSample)) \u001b[39m+\u001b[39m \u001b[39m\"\u001b[39m\u001b[39m_random.off\u001b[39m\u001b[39m\"\u001b[39m)\n",
      "\u001b[0;31mNameError\u001b[0m: name 'RandomSample' is not defined"
     ]
    }
   ],
   "source": [
    "import meshio\n",
    "\n",
    "#writte .OFF files\n",
    "meshio.write_points_cells(str(len(RandomSample)) + \"_random.off\", RandomSample, randomTriangles)\n",
    "print(str(len(RandomSample)) + \"_random.off\")"
   ]
  },
  {
   "cell_type": "code",
   "execution_count": 4,
   "metadata": {},
   "outputs": [
    {
     "data": {
      "text/plain": [
       "<meshio mesh object>\n",
       "  Number of points: 1000002\n",
       "  Number of cells:\n",
       "    triangle: 1995951"
      ]
     },
     "execution_count": 4,
     "metadata": {},
     "output_type": "execute_result"
    }
   ],
   "source": [
    "import meshio\n",
    "meshio.read(\"1000002_poisson.off\")"
   ]
  }
 ],
 "metadata": {
  "kernelspec": {
   "display_name": "Python 3",
   "language": "python",
   "name": "python3"
  },
  "language_info": {
   "codemirror_mode": {
    "name": "ipython",
    "version": 3
   },
   "file_extension": ".py",
   "mimetype": "text/x-python",
   "name": "python",
   "nbconvert_exporter": "python",
   "pygments_lexer": "ipython3",
   "version": "3.10.6 (main, Nov 14 2022, 16:10:14) [GCC 11.3.0]"
  },
  "orig_nbformat": 4,
  "vscode": {
   "interpreter": {
    "hash": "916dbcbb3f70747c44a77c7bcd40155683ae19c65e1c03b4aa3499c5328201f1"
   }
  }
 },
 "nbformat": 4,
 "nbformat_minor": 2
}
