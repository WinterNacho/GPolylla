{
 "cells": [
  {
   "attachments": {},
   "cell_type": "markdown",
   "metadata": {},
   "source": [
    "## Reading grid jsons "
   ]
  },
  {
   "cell_type": "code",
   "execution_count": 1,
   "metadata": {},
   "outputs": [],
   "source": [
    "import matplotlib as mpl\n",
    "import matplotlib.pyplot as plt\n",
    "import numpy as np\n",
    "#plt.rcParams[\"figure.figsize\"] = (6,5)\n",
    "plt.rcParams[\"figure.figsize\"] = (7,7)\n",
    "#plt.rcParams[\"figure.figsize\"] = (10,6)\n",
    "#mpl.rcParams['figure.dpi'] = 800\n",
    "#mpl.rcParams['figure.figsize'] = [60, 60]\n",
    "\n",
    "import pandas as pd\n",
    "import os,json\n",
    "from pathlib import Path\n",
    "\n",
    "from pylatex import Document, Package, Section, NoEscape\n",
    " \n",
    "## Read file names\n",
    "path_to_json = Path(os.getcwd() + \"/CPU_and_GPU/cpu-grid-results/\").glob(\"**/*.json\")\n",
    "CPU_files_grid = [str(path) for path in path_to_json]\n",
    "\n",
    "path_to_json = Path(os.getcwd() + \"/CPU_and_GPU/gpu-grid-results/\").glob(\"**/*.json\")\n",
    "GPU_files_grid = [str(path) for path in path_to_json]\n",
    "\n",
    "# Read json of CPU file\n",
    "CPU_data_grid_to_append = []\n",
    "for files in CPU_files_grid:\n",
    "    CPU_data_grid_to_append.append(pd.read_json(files, typ='series', orient='index'))\n",
    "\n",
    "# Read json of GPU file\n",
    "GPU_data_to_append_grid = []\n",
    "for files in GPU_files_grid:\n",
    "    GPU_data_to_append_grid.append(pd.read_json(files, typ='series', orient='index'))\n",
    "\n",
    "##Concat all dataframe and transpose it\n",
    "CPU_data_time_grid = pd.concat(CPU_data_grid_to_append, axis=1)\n",
    "CPU_data_time_grid = CPU_data_time_grid.transpose()\n",
    "\n",
    "##Concat all dataframe and transpose it\n",
    "GPU_data_time_grid = pd.concat(GPU_data_to_append_grid, axis=1)\n",
    "GPU_data_time_grid = GPU_data_time_grid.transpose()\n",
    "\n",
    "\n",
    "# Drop column parallel from GPU_data_time_grid\n",
    "GPU_data_time_grid = GPU_data_time_grid.drop(columns=['parallel'])\n",
    "\n",
    "#Geometric data as integer\n",
    "CPU_data_time_grid['n_vertices'] = CPU_data_time_grid['n_vertices'].astype(int)\n",
    "CPU_data_time_grid['n_half_edges'] = CPU_data_time_grid['n_half_edges'].astype(int)\n",
    "CPU_data_time_grid['n_faces'] = CPU_data_time_grid['n_faces'].astype(int)\n",
    "CPU_data_time_grid['n_barrier_edge_tips'] = CPU_data_time_grid['n_barrier_edge_tips'].astype(int)\n",
    "\n",
    "GPU_data_time_grid['n_vertices'] = GPU_data_time_grid['n_vertices'].astype(int)\n",
    "GPU_data_time_grid['n_half_edges'] = GPU_data_time_grid['n_half_edges'].astype(int)\n",
    "GPU_data_time_grid['n_faces'] = GPU_data_time_grid['n_faces'].astype(int)\n",
    "GPU_data_time_grid['n_barrier_edge_tips'] = GPU_data_time_grid['n_barrier_edge_tips'].astype(int)\n",
    "\n",
    "#Group by n_vertices and sort by n_vertices in ascending order\n",
    "CPU_data_time_grid = CPU_data_time_grid.groupby('n_vertices',  as_index=False).mean().sort_values(by='n_vertices')\n",
    "GPU_data_time_grid = GPU_data_time_grid.groupby('n_vertices',  as_index=False).mean().sort_values(by='n_vertices')\n",
    "\n",
    "\n",
    "\n",
    "## Convert byte to gb\n",
    "CPU_data_time_grid['memory_max_edges'] = CPU_data_time_grid['memory_max_edges'] / (1024 ** 3)\n",
    "CPU_data_time_grid['memory_frontier_edge'] = CPU_data_time_grid['memory_frontier_edge'] / (1024 ** 3)\n",
    "CPU_data_time_grid['memory_seed_edges'] = CPU_data_time_grid['memory_seed_edges'] / (1024 ** 3)\n",
    "CPU_data_time_grid['memory_seed_bet_mar'] = CPU_data_time_grid['memory_seed_bet_mar'] / (1024 ** 3)\n",
    "CPU_data_time_grid['memory_triangle_list'] = CPU_data_time_grid['memory_triangle_list'] / (1024 ** 3)\n",
    "CPU_data_time_grid['memory_mesh_input'] = CPU_data_time_grid['memory_mesh_input'] / (1024 ** 3)\n",
    "CPU_data_time_grid['memory_mesh_output'] = CPU_data_time_grid['memory_mesh_output'] / (1024 ** 3)\n",
    "CPU_data_time_grid['memory_vertices_input'] = CPU_data_time_grid['memory_vertices_input'] / (1024 ** 3)\n",
    "CPU_data_time_grid['memory_vertices_output'] = CPU_data_time_grid['memory_vertices_output'] / (1024 ** 3)\n",
    "CPU_data_time_grid['memory_total'] = CPU_data_time_grid['memory_total'] / (1024 ** 3)\n",
    "\n",
    "# Convertir las columnas de bytes a GB\n",
    "GPU_data_time_grid['memory_max_edges'] = GPU_data_time_grid['memory_max_edges'] / (1024 ** 3)\n",
    "GPU_data_time_grid['memory_frontier_edge'] = GPU_data_time_grid['memory_frontier_edge'] / (1024 ** 3)\n",
    "GPU_data_time_grid['memory_seed_edges'] = GPU_data_time_grid['memory_seed_edges'] / (1024 ** 3)\n",
    "GPU_data_time_grid['memory_seed_bet_mar'] = GPU_data_time_grid['memory_seed_bet_mar'] / (1024 ** 3)\n",
    "GPU_data_time_grid['memory_triangle_list'] = GPU_data_time_grid['memory_triangle_list'] / (1024 ** 3)\n",
    "GPU_data_time_grid['memory_mesh_input'] = GPU_data_time_grid['memory_mesh_input'] / (1024 ** 3)\n",
    "GPU_data_time_grid['memory_mesh_output'] = GPU_data_time_grid['memory_mesh_output'] / (1024 ** 3)\n",
    "GPU_data_time_grid['memory_vertices_input'] = GPU_data_time_grid['memory_vertices_input'] / (1024 ** 3)\n",
    "GPU_data_time_grid['memory_vertices_output'] = GPU_data_time_grid['memory_vertices_output'] / (1024 ** 3)\n",
    "GPU_data_time_grid['memory_total'] = GPU_data_time_grid['memory_total'] / (1024 ** 3)\n",
    "GPU_data_time_grid['memory_total_gpu'] = GPU_data_time_grid['memory_total_gpu'] / (1024 ** 3)\n",
    "\n",
    "# sumar los tiempos de las diferentes operaciones\n",
    "GPU_data_time_grid['d_total_time'] = GPU_data_time_grid['d_time_copy_to_device'] + \\\n",
    "                                GPU_data_time_grid['d_time_to_label_max_edges'] + \\\n",
    "                                GPU_data_time_grid['d_time_to_label_frontier_edges'] + \\\n",
    "                                GPU_data_time_grid['d_time_to_label_seed_edges'] + \\\n",
    "                                GPU_data_time_grid['d_time_to_label_scan_edges'] + \\\n",
    "                                GPU_data_time_grid['d_time_to_label_compaction_edges'] + \\\n",
    "                                GPU_data_time_grid['d_time_to_label_total'] + \\\n",
    "                                GPU_data_time_grid['d_time_to_traversal_and_repair'] + \\\n",
    "                                GPU_data_time_grid['d_time_to_traversal'] + \\\n",
    "                                GPU_data_time_grid['d_time_to_traversal_search_frontier_edge'] + \\\n",
    "                                GPU_data_time_grid['d_time_to_back_to_host'] + \\\n",
    "                                GPU_data_time_grid['d_time_to_repair']\n",
    "\n",
    "GPU_data_time_grid['d_total_time_no_copy'] = GPU_data_time_grid['d_time_to_label_max_edges'] + \\\n",
    "                                GPU_data_time_grid['d_time_to_label_frontier_edges'] + \\\n",
    "                                GPU_data_time_grid['d_time_to_label_seed_edges'] + \\\n",
    "                                GPU_data_time_grid['d_time_to_label_scan_edges'] + \\\n",
    "                                GPU_data_time_grid['d_time_to_label_compaction_edges'] + \\\n",
    "                                GPU_data_time_grid['d_time_to_label_total'] + \\\n",
    "                                GPU_data_time_grid['d_time_to_traversal_and_repair'] + \\\n",
    "                                GPU_data_time_grid['d_time_to_traversal'] + \\\n",
    "                                GPU_data_time_grid['d_time_to_traversal_search_frontier_edge'] + \\\n",
    "                                GPU_data_time_grid['d_time_to_repair']\n",
    "\n",
    "\n",
    "# create new datadrame with the n_vertices of CPU, the d_total_time_no_copy, d_total_time  of GPU and the time_to_generate_polygonal_mesh of CPU\n",
    "df_speedup = pd.DataFrame({'n_vertices': CPU_data_time_grid['n_vertices'], 'd_total_time_no_copy': GPU_data_time_grid['d_total_time_no_copy'], 'd_total_time': GPU_data_time_grid['d_total_time'], 'time_to_generate_polygonal_mesh': CPU_data_time_grid['time_to_generate_polygonal_mesh']})\n",
    "\n",
    "\n",
    "\n",
    "# add a column to divie the time_to_generate_polygonal_mesh by the d_total_time_no_copy\n",
    "df_speedup['speedup'] = df_speedup['time_to_generate_polygonal_mesh'] / df_speedup['d_total_time_no_copy']\n",
    "\n",
    "# add a column to divie the time_to_generate_polygonal_mesh by the d_total_time\n",
    "df_speedup['speedup_with_copy'] = df_speedup['time_to_generate_polygonal_mesh'] / df_speedup['d_total_time']\n"
   ]
  },
  {
   "attachments": {},
   "cell_type": "markdown",
   "metadata": {},
   "source": [
    "# Reading uniform results"
   ]
  },
  {
   "cell_type": "code",
   "execution_count": 2,
   "metadata": {},
   "outputs": [],
   "source": [
    "\n",
    "## Read file names\n",
    "path_to_json = Path(os.getcwd() + \"/CPU_and_GPU/cpu-uniform-results/\").glob(\"**/*.json\")\n",
    "CPU_files_uniform = [str(path) for path in path_to_json]\n",
    "\n",
    "path_to_json = Path(os.getcwd() + \"/CPU_and_GPU/gpu-uniform-results/\").glob(\"**/*.json\")\n",
    "GPU_files_uniform = [str(path) for path in path_to_json]\n",
    "\n",
    "# Read json of CPU file\n",
    "CPU_data_uniform_to_append = []\n",
    "for files in CPU_files_uniform:\n",
    "    CPU_data_uniform_to_append.append(pd.read_json(files, typ='series', orient='index'))\n",
    "\n",
    "# Read json of GPU file\n",
    "GPU_data_to_append_uniform = []\n",
    "for files in GPU_files_uniform:\n",
    "    GPU_data_to_append_uniform.append(pd.read_json(files, typ='series', orient='index'))\n",
    "\n",
    "##Concat all dataframe and transpose it\n",
    "CPU_data_time_uniform = pd.concat(CPU_data_uniform_to_append, axis=1)\n",
    "CPU_data_time_uniform = CPU_data_time_uniform.transpose()\n",
    "\n",
    "##Concat all dataframe and transpose it\n",
    "GPU_data_time_uniform = pd.concat(GPU_data_to_append_uniform, axis=1)\n",
    "GPU_data_time_uniform = GPU_data_time_uniform.transpose()\n",
    "\n",
    "\n",
    "# Drop column parallel from GPU_data_time_uniform\n",
    "GPU_data_time_uniform = GPU_data_time_uniform.drop(columns=['parallel'])\n",
    "\n",
    "#Geometric data as integer\n",
    "CPU_data_time_uniform['n_vertices'] = CPU_data_time_uniform['n_vertices'].astype(int)\n",
    "CPU_data_time_uniform['n_half_edges'] = CPU_data_time_uniform['n_half_edges'].astype(int)\n",
    "CPU_data_time_uniform['n_faces'] = CPU_data_time_uniform['n_faces'].astype(int)\n",
    "CPU_data_time_uniform['n_barrier_edge_tips'] = CPU_data_time_uniform['n_barrier_edge_tips'].astype(int)\n",
    "\n",
    "GPU_data_time_uniform['n_vertices'] = GPU_data_time_uniform['n_vertices'].astype(int)\n",
    "GPU_data_time_uniform['n_half_edges'] = GPU_data_time_uniform['n_half_edges'].astype(int)\n",
    "GPU_data_time_uniform['n_faces'] = GPU_data_time_uniform['n_faces'].astype(int)\n",
    "GPU_data_time_uniform['n_barrier_edge_tips'] = GPU_data_time_uniform['n_barrier_edge_tips'].astype(int)\n",
    "\n",
    "#Group by n_vertices and sort by n_vertices in ascending order\n",
    "CPU_data_time_uniform = CPU_data_time_uniform.groupby('n_vertices',  as_index=False).mean().sort_values(by='n_vertices')\n",
    "GPU_data_time_uniform = GPU_data_time_uniform.groupby('n_vertices',  as_index=False).mean().sort_values(by='n_vertices')\n",
    "\n",
    "\n",
    "\n",
    "## Convert byte to gb\n",
    "CPU_data_time_uniform['memory_max_edges'] = CPU_data_time_uniform['memory_max_edges'] / (1024 ** 3)\n",
    "CPU_data_time_uniform['memory_frontier_edge'] = CPU_data_time_uniform['memory_frontier_edge'] / (1024 ** 3)\n",
    "CPU_data_time_uniform['memory_seed_edges'] = CPU_data_time_uniform['memory_seed_edges'] / (1024 ** 3)\n",
    "CPU_data_time_uniform['memory_seed_bet_mar'] = CPU_data_time_uniform['memory_seed_bet_mar'] / (1024 ** 3)\n",
    "CPU_data_time_uniform['memory_triangle_list'] = CPU_data_time_uniform['memory_triangle_list'] / (1024 ** 3)\n",
    "CPU_data_time_uniform['memory_mesh_input'] = CPU_data_time_uniform['memory_mesh_input'] / (1024 ** 3)\n",
    "CPU_data_time_uniform['memory_mesh_output'] = CPU_data_time_uniform['memory_mesh_output'] / (1024 ** 3)\n",
    "CPU_data_time_uniform['memory_vertices_input'] = CPU_data_time_uniform['memory_vertices_input'] / (1024 ** 3)\n",
    "CPU_data_time_uniform['memory_vertices_output'] = CPU_data_time_uniform['memory_vertices_output'] / (1024 ** 3)\n",
    "CPU_data_time_uniform['memory_total'] = CPU_data_time_uniform['memory_total'] / (1024 ** 3)\n",
    "\n",
    "# Convertir las columnas de bytes a GB\n",
    "GPU_data_time_uniform['memory_max_edges'] = GPU_data_time_uniform['memory_max_edges'] / (1024 ** 3)\n",
    "GPU_data_time_uniform['memory_frontier_edge'] = GPU_data_time_uniform['memory_frontier_edge'] / (1024 ** 3)\n",
    "GPU_data_time_uniform['memory_seed_edges'] = GPU_data_time_uniform['memory_seed_edges'] / (1024 ** 3)\n",
    "GPU_data_time_uniform['memory_seed_bet_mar'] = GPU_data_time_uniform['memory_seed_bet_mar'] / (1024 ** 3)\n",
    "GPU_data_time_uniform['memory_triangle_list'] = GPU_data_time_uniform['memory_triangle_list'] / (1024 ** 3)\n",
    "GPU_data_time_uniform['memory_mesh_input'] = GPU_data_time_uniform['memory_mesh_input'] / (1024 ** 3)\n",
    "GPU_data_time_uniform['memory_mesh_output'] = GPU_data_time_uniform['memory_mesh_output'] / (1024 ** 3)\n",
    "GPU_data_time_uniform['memory_vertices_input'] = GPU_data_time_uniform['memory_vertices_input'] / (1024 ** 3)\n",
    "GPU_data_time_uniform['memory_vertices_output'] = GPU_data_time_uniform['memory_vertices_output'] / (1024 ** 3)\n",
    "GPU_data_time_uniform['memory_total'] = GPU_data_time_uniform['memory_total'] / (1024 ** 3)\n",
    "GPU_data_time_uniform['memory_total_gpu'] = GPU_data_time_uniform['memory_total_gpu'] / (1024 ** 3)\n",
    "\n",
    "# sumar los tiempos de las diferentes operaciones\n",
    "GPU_data_time_uniform['d_total_time'] = GPU_data_time_uniform['d_time_copy_to_device'] + \\\n",
    "                                GPU_data_time_uniform['d_time_to_label_max_edges'] + \\\n",
    "                                GPU_data_time_uniform['d_time_to_label_frontier_edges'] + \\\n",
    "                                GPU_data_time_uniform['d_time_to_label_seed_edges'] + \\\n",
    "                                GPU_data_time_uniform['d_time_to_label_scan_edges'] + \\\n",
    "                                GPU_data_time_uniform['d_time_to_label_compaction_edges'] + \\\n",
    "                                GPU_data_time_uniform['d_time_to_label_total'] + \\\n",
    "                                GPU_data_time_uniform['d_time_to_traversal_and_repair'] + \\\n",
    "                                GPU_data_time_uniform['d_time_to_traversal'] + \\\n",
    "                                GPU_data_time_uniform['d_time_to_traversal_search_frontier_edge'] + \\\n",
    "                                GPU_data_time_uniform['d_time_to_back_to_host'] + \\\n",
    "                                GPU_data_time_uniform['d_time_to_repair']\n",
    "\n",
    "GPU_data_time_uniform['d_total_time_no_copy'] = GPU_data_time_uniform['d_time_to_label_max_edges'] + \\\n",
    "                                GPU_data_time_uniform['d_time_to_label_frontier_edges'] + \\\n",
    "                                GPU_data_time_uniform['d_time_to_label_seed_edges'] + \\\n",
    "                                GPU_data_time_uniform['d_time_to_label_scan_edges'] + \\\n",
    "                                GPU_data_time_uniform['d_time_to_label_compaction_edges'] + \\\n",
    "                                GPU_data_time_uniform['d_time_to_label_total'] + \\\n",
    "                                GPU_data_time_uniform['d_time_to_traversal_and_repair'] + \\\n",
    "                                GPU_data_time_uniform['d_time_to_traversal'] + \\\n",
    "                                GPU_data_time_uniform['d_time_to_traversal_search_frontier_edge'] + \\\n",
    "                                GPU_data_time_uniform['d_time_to_repair']\n",
    "\n",
    "\n",
    "# create new datadrame with the n_vertices of CPU, the d_total_time_no_copy, d_total_time  of GPU and the time_to_generate_polygonal_mesh of CPU\n",
    "df_speedup = pd.DataFrame({'n_vertices': CPU_data_time_uniform['n_vertices'], 'd_total_time_no_copy': GPU_data_time_uniform['d_total_time_no_copy'], 'd_total_time': GPU_data_time_uniform['d_total_time'], 'time_to_generate_polygonal_mesh': CPU_data_time_uniform['time_to_generate_polygonal_mesh']})\n",
    "\n",
    "\n",
    "\n",
    "# add a column to divie the time_to_generate_polygonal_mesh by the d_total_time_no_copy\n",
    "df_speedup['speedup'] = df_speedup['time_to_generate_polygonal_mesh'] / df_speedup['d_total_time_no_copy']\n",
    "\n",
    "# add a column to divie the time_to_generate_polygonal_mesh by the d_total_time\n",
    "df_speedup['speedup_with_copy'] = df_speedup['time_to_generate_polygonal_mesh'] / df_speedup['d_total_time']"
   ]
  },
  {
   "attachments": {},
   "cell_type": "markdown",
   "metadata": {},
   "source": [
    "# Gráficos grid"
   ]
  },
  {
   "cell_type": "code",
   "execution_count": 3,
   "metadata": {},
   "outputs": [
    {
     "data": {
      "image/png": "[encoded data removed]",
      "text/plain": [
       "<Figure size 504x504 with 1 Axes>"
      ]
     },
     "metadata": {
      "needs_background": "light"
     },
     "output_type": "display_data"
    }
   ],
   "source": [
    "# graficar la suma de los tiempos por n_vertices\n",
    "import matplotlib.pyplot as plt\n",
    "\n",
    "plt.plot(GPU_data_time_grid['n_vertices'], GPU_data_time_grid['d_total_time_no_copy'],  c=\"red\",marker=\"v\", label='GPU-noncopy')\n",
    "plt.plot(GPU_data_time_grid['n_vertices'], GPU_data_time_grid['d_total_time'],  c=\"green\",marker=\"v\", label='GPU')\n",
    "plt.plot(CPU_data_time_grid['n_vertices'], CPU_data_time_grid['time_to_generate_polygonal_mesh'], c=\"blue\",marker=\"o\", label='CPU')\n",
    "plt.xlabel('n_vertices')\n",
    "plt.ylabel('Tiempo total')\n",
    "plt.title('Suma de tiempos por n_vertices')\n",
    "plt.legend()\n",
    "plt.show()\n"
   ]
  },
  {
   "cell_type": "code",
   "execution_count": 4,
   "metadata": {},
   "outputs": [
    {
     "data": {
      "image/png": "[encoded data removed]",
      "text/plain": [
       "<Figure size 504x504 with 1 Axes>"
      ]
     },
     "metadata": {
      "needs_background": "light"
     },
     "output_type": "display_data"
    }
   ],
   "source": [
    "# Plot speedup\n",
    "plt.plot(df_speedup['n_vertices'], df_speedup['speedup'], c=\"green\",marker=\"o\", label='Speedup')\n",
    "plt.plot(df_speedup['n_vertices'], df_speedup['speedup_with_copy'], c=\"red\",marker=\"v\", label='Speedup with copy')\n",
    "plt.xlabel('n_vertices')\n",
    "plt.ylabel('Speedup')\n",
    "plt.title('Speedup')\n",
    "plt.legend()\n",
    "plt.show()\n"
   ]
  },
  {
   "attachments": {},
   "cell_type": "markdown",
   "metadata": {},
   "source": [
    "# Preguntas"
   ]
  },
  {
   "cell_type": "code",
   "execution_count": 5,
   "metadata": {},
   "outputs": [
    {
     "name": "stdout",
     "output_type": "stream",
     "text": [
      "Promedio del speedup:  1189.8305167190695\n",
      "Promedio del speedup con copia:  77.89476749078266\n"
     ]
    }
   ],
   "source": [
    "# Cuanto es el promedio del speedup\n",
    "print(\"Promedio del speedup: \", df_speedup['speedup'].mean())\n",
    "\n",
    "# Cuanto es el promedio del speedup con copia\n",
    "print(\"Promedio del speedup con copia: \", df_speedup['speedup_with_copy'].mean())\n",
    "\n",
    "# Comparar el speed up de delaunay y uniforme\n",
    "\n"
   ]
  },
  {
   "attachments": {},
   "cell_type": "markdown",
   "metadata": {},
   "source": [
    "# Graficos Uniform"
   ]
  }
 ],
 "metadata": {
  "kernelspec": {
   "display_name": "Python 3.8.10 64-bit",
   "language": "python",
   "name": "python3"
  },
  "language_info": {
   "codemirror_mode": {
    "name": "ipython",
    "version": 3
   },
   "file_extension": ".py",
   "mimetype": "text/x-python",
   "name": "python",
   "nbconvert_exporter": "python",
   "pygments_lexer": "ipython3",
   "version": "3.10.6"
  },
  "orig_nbformat": 4,
  "vscode": {
   "interpreter": {
    "hash": "916dbcbb3f70747c44a77c7bcd40155683ae19c65e1c03b4aa3499c5328201f1"
   }
  }
 },
 "nbformat": 4,
 "nbformat_minor": 2
}
