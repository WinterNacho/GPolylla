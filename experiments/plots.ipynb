{
 "cells": [
  {
   "attachments": {},
   "cell_type": "markdown",
   "metadata": {},
   "source": [
    "## Reading grid jsons "
   ]
  },
  {
   "cell_type": "code",
   "execution_count": null,
   "metadata": {},
   "outputs": [
    {
     "ename": "",
     "evalue": "",
     "output_type": "error",
     "traceback": [
      "\u001b[1;31mRunning cells with '/usr/bin/python3' requires the ipykernel package.\n",
      "\u001b[1;31mRun the following command to install 'ipykernel' into the Python environment. \n",
      "\u001b[1;31mCommand: '/usr/bin/python3 -m pip install ipykernel -U --user --force-reinstall'"
     ]
    }
   ],
   "source": [
    "import matplotlib as mpl\n",
    "import matplotlib.pyplot as plt\n",
    "import numpy as np\n",
    "#plt.rcParams[\"figure.figsize\"] = (6,5)\n",
    "plt.rcParams[\"figure.figsize\"] = (7,7)\n",
    "#plt.rcParams[\"figure.figsize\"] = (10,10)\n",
    "#mpl.rcParams['figure.dpi'] = 800\n",
    "#mpl.rcParams['figure.figsize'] = [60, 60]\n",
    "\n",
    "import pandas as pd\n",
    "import os,json\n",
    "from pathlib import Path\n",
    "\n",
    "from pylatex import Document, Package, Section, NoEscape\n",
    " \n",
    "## Read file names\n",
    "path_to_json = Path(os.getcwd() + \"/CPU_and_GPU_old/cpu-grid-results/\").glob(\"**/*.json\")\n",
    "CPU_files_grid = [str(path) for path in path_to_json]\n",
    "\n",
    "path_to_json = Path(os.getcwd() + \"/CPU_and_GPU_old/gpu-grid-results/\").glob(\"**/*.json\")\n",
    "GPU_files_grid = [str(path) for path in path_to_json]\n",
    "\n",
    "# Read json of CPU file\n",
    "CPU_data_grid_to_append = []\n",
    "for files in CPU_files_grid:\n",
    "    CPU_data_grid_to_append.append(pd.read_json(files, typ='series', orient='index'))\n",
    "\n",
    "# Read json of GPU file\n",
    "GPU_data_to_append_grid = []\n",
    "for files in GPU_files_grid:\n",
    "    GPU_data_to_append_grid.append(pd.read_json(files, typ='series', orient='index'))\n",
    "\n",
    "##Concat all dataframe and transpose it\n",
    "CPU_data_time_grid = pd.concat(CPU_data_grid_to_append, axis=1)\n",
    "CPU_data_time_grid = CPU_data_time_grid.transpose()\n",
    "\n",
    "##Concat all dataframe and transpose it\n",
    "GPU_data_time_grid = pd.concat(GPU_data_to_append_grid, axis=1)\n",
    "GPU_data_time_grid = GPU_data_time_grid.transpose()\n",
    "\n",
    "\n",
    "# Drop column parallel from GPU_data_time_grid\n",
    "GPU_data_time_grid = GPU_data_time_grid.drop(columns=['parallel'])\n",
    "\n",
    "#Geometric data as integer\n",
    "CPU_data_time_grid['n_vertices'] = CPU_data_time_grid['n_vertices'].astype(int)\n",
    "CPU_data_time_grid['n_half_edges'] = CPU_data_time_grid['n_half_edges'].astype(int)\n",
    "CPU_data_time_grid['n_faces'] = CPU_data_time_grid['n_faces'].astype(int)\n",
    "CPU_data_time_grid['n_barrier_edge_tips'] = CPU_data_time_grid['n_barrier_edge_tips'].astype(int)\n",
    "\n",
    "GPU_data_time_grid['n_vertices'] = GPU_data_time_grid['n_vertices'].astype(int)\n",
    "GPU_data_time_grid['n_half_edges'] = GPU_data_time_grid['n_half_edges'].astype(int)\n",
    "GPU_data_time_grid['n_faces'] = GPU_data_time_grid['n_faces'].astype(int)\n",
    "GPU_data_time_grid['n_barrier_edge_tips'] = GPU_data_time_grid['n_barrier_edge_tips'].astype(int)\n",
    "\n",
    "#Group by n_vertices and sort by n_vertices in ascending order\n",
    "CPU_data_time_grid = CPU_data_time_grid.groupby('n_vertices',  as_index=False).mean().sort_values(by='n_vertices')\n",
    "GPU_data_time_grid = GPU_data_time_grid.groupby('n_vertices',  as_index=False).mean().sort_values(by='n_vertices')\n",
    "\n",
    "\n",
    "\n",
    "## Convert byte to gb\n",
    "CPU_data_time_grid['memory_max_edges'] = CPU_data_time_grid['memory_max_edges'] / (1024 ** 3)\n",
    "CPU_data_time_grid['memory_frontier_edge'] = CPU_data_time_grid['memory_frontier_edge'] / (1024 ** 3)\n",
    "CPU_data_time_grid['memory_seed_edges'] = CPU_data_time_grid['memory_seed_edges'] / (1024 ** 3)\n",
    "CPU_data_time_grid['memory_seed_bet_mar'] = CPU_data_time_grid['memory_seed_bet_mar'] / (1024 ** 3)\n",
    "CPU_data_time_grid['memory_triangle_list'] = CPU_data_time_grid['memory_triangle_list'] / (1024 ** 3)\n",
    "CPU_data_time_grid['memory_mesh_input'] = CPU_data_time_grid['memory_mesh_input'] / (1024 ** 3)\n",
    "CPU_data_time_grid['memory_mesh_output'] = CPU_data_time_grid['memory_mesh_output'] / (1024 ** 3)\n",
    "CPU_data_time_grid['memory_vertices_input'] = CPU_data_time_grid['memory_vertices_input'] / (1024 ** 3)\n",
    "CPU_data_time_grid['memory_vertices_output'] = CPU_data_time_grid['memory_vertices_output'] / (1024 ** 3)\n",
    "CPU_data_time_grid['memory_total'] = CPU_data_time_grid['memory_total'] / (1024 ** 3)\n",
    "\n",
    "# Convertir las columnas de bytes a GB\n",
    "GPU_data_time_grid['memory_max_edges'] = GPU_data_time_grid['memory_max_edges'] / (1024 ** 3)\n",
    "GPU_data_time_grid['memory_frontier_edge'] = GPU_data_time_grid['memory_frontier_edge'] / (1024 ** 3)\n",
    "GPU_data_time_grid['memory_seed_edges'] = GPU_data_time_grid['memory_seed_edges'] / (1024 ** 3)\n",
    "GPU_data_time_grid['memory_seed_bet_mar'] = GPU_data_time_grid['memory_seed_bet_mar'] / (1024 ** 3)\n",
    "GPU_data_time_grid['memory_triangle_list'] = GPU_data_time_grid['memory_triangle_list'] / (1024 ** 3)\n",
    "GPU_data_time_grid['memory_mesh_input'] = GPU_data_time_grid['memory_mesh_input'] / (1024 ** 3)\n",
    "GPU_data_time_grid['memory_mesh_output'] = GPU_data_time_grid['memory_mesh_output'] / (1024 ** 3)\n",
    "GPU_data_time_grid['memory_vertices_input'] = GPU_data_time_grid['memory_vertices_input'] / (1024 ** 3)\n",
    "GPU_data_time_grid['memory_vertices_output'] = GPU_data_time_grid['memory_vertices_output'] / (1024 ** 3)\n",
    "GPU_data_time_grid['memory_total'] = GPU_data_time_grid['memory_total'] / (1024 ** 3)\n",
    "GPU_data_time_grid['memory_total_gpu'] = GPU_data_time_grid['memory_total_gpu'] / (1024 ** 3)\n",
    "\n",
    "# sumar los tiempos de las diferentes operaciones\n",
    "GPU_data_time_grid['d_total_time'] = GPU_data_time_grid['d_time_copy_to_device'] + \\\n",
    "                                GPU_data_time_grid['d_time_to_label_max_edges'] + \\\n",
    "                                GPU_data_time_grid['d_time_to_label_frontier_edges'] + \\\n",
    "                                GPU_data_time_grid['d_time_to_label_seed_edges'] + \\\n",
    "                                GPU_data_time_grid['d_time_to_label_scan_edges'] + \\\n",
    "                                GPU_data_time_grid['d_time_to_label_compaction_edges'] + \\\n",
    "                                GPU_data_time_grid['d_time_to_label_total'] + \\\n",
    "                                GPU_data_time_grid['d_time_to_traversal_and_repair'] + \\\n",
    "                                GPU_data_time_grid['d_time_to_traversal'] + \\\n",
    "                                GPU_data_time_grid['d_time_to_traversal_search_frontier_edge'] + \\\n",
    "                                GPU_data_time_grid['d_time_to_back_to_host'] + \\\n",
    "                                CPU_data_time_grid['time_to_repair']\n",
    "\n",
    "GPU_data_time_grid['d_total_time_no_copy'] = GPU_data_time_grid['d_time_to_label_max_edges'] + \\\n",
    "                                GPU_data_time_grid['d_time_to_label_frontier_edges'] + \\\n",
    "                                GPU_data_time_grid['d_time_to_label_seed_edges'] + \\\n",
    "                                GPU_data_time_grid['d_time_to_label_scan_edges'] + \\\n",
    "                                GPU_data_time_grid['d_time_to_label_compaction_edges'] + \\\n",
    "                                GPU_data_time_grid['d_time_to_label_total'] + \\\n",
    "                                GPU_data_time_grid['d_time_to_traversal_and_repair'] + \\\n",
    "                                GPU_data_time_grid['d_time_to_traversal'] + \\\n",
    "                                GPU_data_time_grid['d_time_to_traversal_search_frontier_edge'] + \\\n",
    "                                GPU_data_time_grid['d_time_to_repair']\n",
    "\n",
    "\n",
    "# create new datadrame with the n_vertices of CPU, the d_total_time_no_copy, d_total_time  of GPU and the time_to_generate_polygonal_mesh of CPU\n",
    "df_speedup = pd.DataFrame({'n_vertices': CPU_data_time_grid['n_vertices'], 'd_total_time_no_copy': GPU_data_time_grid['d_total_time_no_copy'], 'd_total_time': GPU_data_time_grid['d_total_time'], 'time_to_generate_polygonal_mesh': CPU_data_time_grid['time_to_generate_polygonal_mesh']})\n",
    "\n",
    "\n",
    "\n",
    "# add a column to divie the time_to_generate_polygonal_mesh by the d_total_time_no_copy\n",
    "df_speedup['speedup'] = df_speedup['time_to_generate_polygonal_mesh'] / df_speedup['d_total_time_no_copy']\n",
    "\n",
    "# add a column to divie the time_to_generate_polygonal_mesh by the d_total_time\n",
    "df_speedup['speedup_with_copy'] = df_speedup['time_to_generate_polygonal_mesh'] / df_speedup['d_total_time']\n"
   ]
  },
  {
   "cell_type": "code",
   "execution_count": null,
   "metadata": {},
   "outputs": [
    {
     "ename": "",
     "evalue": "",
     "output_type": "error",
     "traceback": [
      "\u001b[1;31mRunning cells with '/usr/bin/python3' requires the ipykernel package.\n",
      "\u001b[1;31mRun the following command to install 'ipykernel' into the Python environment. \n",
      "\u001b[1;31mCommand: '/usr/bin/python3 -m pip install ipykernel -U --user --force-reinstall'"
     ]
    }
   ],
   "source": [
    "# sumar los tiempos de las diferentes operaciones\n",
    "CPU_data_time_grid['d_total_time'] = CPU_data_time_grid['time_to_label_max_edges'] + \\\n",
    "                                CPU_data_time_grid['time_to_label_frontier_edges'] + \\\n",
    "                                CPU_data_time_grid['time_to_label_seed_edges'] + \\\n",
    "                                CPU_data_time_grid['time_to_traversal'] + \\\n",
    "                                CPU_data_time_grid['time_to_repair']"
   ]
  },
  {
   "attachments": {},
   "cell_type": "markdown",
   "metadata": {},
   "source": [
    "# Reading uniform results"
   ]
  },
  {
   "cell_type": "code",
   "execution_count": null,
   "metadata": {},
   "outputs": [
    {
     "ename": "",
     "evalue": "",
     "output_type": "error",
     "traceback": [
      "\u001b[1;31mRunning cells with '/usr/bin/python3' requires the ipykernel package.\n",
      "\u001b[1;31mRun the following command to install 'ipykernel' into the Python environment. \n",
      "\u001b[1;31mCommand: '/usr/bin/python3 -m pip install ipykernel -U --user --force-reinstall'"
     ]
    }
   ],
   "source": [
    "\n",
    "## Read file names\n",
    "path_to_json = Path(os.getcwd() + \"/CPU_and_GPU_old/cpu-uniform-results/\").glob(\"**/*.json\")\n",
    "CPU_files_uniform = [str(path) for path in path_to_json]\n",
    "\n",
    "path_to_json = Path(os.getcwd() + \"/CPU_and_GPU_old/gpu-uniform-results/\").glob(\"**/*.json\")\n",
    "GPU_files_uniform = [str(path) for path in path_to_json]\n",
    "\n",
    "# Read json of CPU file\n",
    "CPU_data_uniform_to_append = []\n",
    "for files in CPU_files_uniform:\n",
    "    CPU_data_uniform_to_append.append(pd.read_json(files, typ='series', orient='index'))\n",
    "\n",
    "# Read json of GPU file\n",
    "GPU_data_to_append_uniform = []\n",
    "for files in GPU_files_uniform:\n",
    "    GPU_data_to_append_uniform.append(pd.read_json(files, typ='series', orient='index'))\n",
    "\n",
    "##Concat all dataframe and transpose it\n",
    "CPU_data_time_uniform = pd.concat(CPU_data_uniform_to_append, axis=1)\n",
    "CPU_data_time_uniform = CPU_data_time_uniform.transpose()\n",
    "\n",
    "##Concat all dataframe and transpose it\n",
    "GPU_data_time_uniform = pd.concat(GPU_data_to_append_uniform, axis=1)\n",
    "GPU_data_time_uniform = GPU_data_time_uniform.transpose()\n",
    "\n",
    "\n",
    "# Drop column parallel from GPU_data_time_uniform\n",
    "GPU_data_time_uniform = GPU_data_time_uniform.drop(columns=['parallel'])\n",
    "\n",
    "#Geometric data as integer\n",
    "CPU_data_time_uniform['n_vertices'] = CPU_data_time_uniform['n_vertices'].astype(int)\n",
    "CPU_data_time_uniform['n_half_edges'] = CPU_data_time_uniform['n_half_edges'].astype(int)\n",
    "CPU_data_time_uniform['n_faces'] = CPU_data_time_uniform['n_faces'].astype(int)\n",
    "CPU_data_time_uniform['n_barrier_edge_tips'] = CPU_data_time_uniform['n_barrier_edge_tips'].astype(int)\n",
    "\n",
    "GPU_data_time_uniform['n_vertices'] = GPU_data_time_uniform['n_vertices'].astype(int)\n",
    "GPU_data_time_uniform['n_half_edges'] = GPU_data_time_uniform['n_half_edges'].astype(int)\n",
    "GPU_data_time_uniform['n_faces'] = GPU_data_time_uniform['n_faces'].astype(int)\n",
    "GPU_data_time_uniform['n_barrier_edge_tips'] = GPU_data_time_uniform['n_barrier_edge_tips'].astype(int)\n",
    "\n",
    "#Group by n_vertices and sort by n_vertices in ascending order\n",
    "CPU_data_time_uniform = CPU_data_time_uniform.groupby('n_vertices',  as_index=False).mean().sort_values(by='n_vertices')\n",
    "GPU_data_time_uniform = GPU_data_time_uniform.groupby('n_vertices',  as_index=False).mean().sort_values(by='n_vertices')\n",
    "\n",
    "\n",
    "\n",
    "## Convert byte to gb\n",
    "CPU_data_time_uniform['memory_max_edges'] = CPU_data_time_uniform['memory_max_edges'] / (1024 ** 3)\n",
    "CPU_data_time_uniform['memory_frontier_edge'] = CPU_data_time_uniform['memory_frontier_edge'] / (1024 ** 3)\n",
    "CPU_data_time_uniform['memory_seed_edges'] = CPU_data_time_uniform['memory_seed_edges'] / (1024 ** 3)\n",
    "CPU_data_time_uniform['memory_seed_bet_mar'] = CPU_data_time_uniform['memory_seed_bet_mar'] / (1024 ** 3)\n",
    "CPU_data_time_uniform['memory_triangle_list'] = CPU_data_time_uniform['memory_triangle_list'] / (1024 ** 3)\n",
    "CPU_data_time_uniform['memory_mesh_input'] = CPU_data_time_uniform['memory_mesh_input'] / (1024 ** 3)\n",
    "CPU_data_time_uniform['memory_mesh_output'] = CPU_data_time_uniform['memory_mesh_output'] / (1024 ** 3)\n",
    "CPU_data_time_uniform['memory_vertices_input'] = CPU_data_time_uniform['memory_vertices_input'] / (1024 ** 3)\n",
    "CPU_data_time_uniform['memory_vertices_output'] = CPU_data_time_uniform['memory_vertices_output'] / (1024 ** 3)\n",
    "CPU_data_time_uniform['memory_total'] = CPU_data_time_uniform['memory_total'] / (1024 ** 3)\n",
    "\n",
    "# Convertir las columnas de bytes a GB\n",
    "GPU_data_time_uniform['memory_max_edges'] = GPU_data_time_uniform['memory_max_edges'] / (1024 ** 3)\n",
    "GPU_data_time_uniform['memory_frontier_edge'] = GPU_data_time_uniform['memory_frontier_edge'] / (1024 ** 3)\n",
    "GPU_data_time_uniform['memory_seed_edges'] = GPU_data_time_uniform['memory_seed_edges'] / (1024 ** 3)\n",
    "GPU_data_time_uniform['memory_seed_bet_mar'] = GPU_data_time_uniform['memory_seed_bet_mar'] / (1024 ** 3)\n",
    "GPU_data_time_uniform['memory_triangle_list'] = GPU_data_time_uniform['memory_triangle_list'] / (1024 ** 3)\n",
    "GPU_data_time_uniform['memory_mesh_input'] = GPU_data_time_uniform['memory_mesh_input'] / (1024 ** 3)\n",
    "GPU_data_time_uniform['memory_mesh_output'] = GPU_data_time_uniform['memory_mesh_output'] / (1024 ** 3)\n",
    "GPU_data_time_uniform['memory_vertices_input'] = GPU_data_time_uniform['memory_vertices_input'] / (1024 ** 3)\n",
    "GPU_data_time_uniform['memory_vertices_output'] = GPU_data_time_uniform['memory_vertices_output'] / (1024 ** 3)\n",
    "GPU_data_time_uniform['memory_total'] = GPU_data_time_uniform['memory_total'] / (1024 ** 3)\n",
    "GPU_data_time_uniform['memory_total_gpu'] = GPU_data_time_uniform['memory_total_gpu'] / (1024 ** 3)\n",
    "\n",
    "# sumar los tiempos de las diferentes operaciones\n",
    "GPU_data_time_uniform['d_total_time'] = GPU_data_time_uniform['d_time_copy_to_device'] + \\\n",
    "                                GPU_data_time_uniform['d_time_to_label_max_edges'] + \\\n",
    "                                GPU_data_time_uniform['d_time_to_label_frontier_edges'] + \\\n",
    "                                GPU_data_time_uniform['d_time_to_label_seed_edges'] + \\\n",
    "                                GPU_data_time_uniform['d_time_to_label_scan_edges'] + \\\n",
    "                                GPU_data_time_uniform['d_time_to_label_compaction_edges'] + \\\n",
    "                                GPU_data_time_uniform['d_time_to_label_total'] + \\\n",
    "                                GPU_data_time_uniform['d_time_to_traversal_and_repair'] + \\\n",
    "                                GPU_data_time_uniform['d_time_to_traversal'] + \\\n",
    "                                GPU_data_time_uniform['d_time_to_traversal_search_frontier_edge'] + \\\n",
    "                                GPU_data_time_uniform['d_time_to_back_to_host'] + \\\n",
    "                                GPU_data_time_uniform['d_time_to_repair']\n",
    "\n",
    "GPU_data_time_uniform['d_total_time_no_copy'] = GPU_data_time_uniform['d_time_to_label_max_edges'] + \\\n",
    "                                GPU_data_time_uniform['d_time_to_label_frontier_edges'] + \\\n",
    "                                GPU_data_time_uniform['d_time_to_label_seed_edges'] + \\\n",
    "                                GPU_data_time_uniform['d_time_to_label_scan_edges'] + \\\n",
    "                                GPU_data_time_uniform['d_time_to_label_compaction_edges'] + \\\n",
    "                                GPU_data_time_uniform['d_time_to_label_total'] + \\\n",
    "                                GPU_data_time_uniform['d_time_to_traversal_and_repair'] + \\\n",
    "                                GPU_data_time_uniform['d_time_to_traversal'] + \\\n",
    "                                GPU_data_time_uniform['d_time_to_traversal_search_frontier_edge'] + \\\n",
    "                                CPU_data_time_uniform['time_to_repair']\n",
    "\n",
    "\n",
    "# create new datadrame with the n_vertices of CPU, the d_total_time_no_copy, d_total_time  of GPU and the time_to_generate_polygonal_mesh of CPU\n",
    "df_speedup_uniform = pd.DataFrame({'n_vertices': CPU_data_time_uniform['n_vertices'], 'd_total_time_no_copy': GPU_data_time_uniform['d_total_time_no_copy'], 'd_total_time': GPU_data_time_uniform['d_total_time'], 'time_to_generate_polygonal_mesh': CPU_data_time_uniform['time_to_generate_polygonal_mesh']})\n",
    "\n",
    "\n",
    "\n",
    "# add a column to divie the time_to_generate_polygonal_mesh by the d_total_time_no_copy\n",
    "df_speedup_uniform['speedup'] = df_speedup_uniform['time_to_generate_polygonal_mesh'] / df_speedup_uniform['d_total_time_no_copy']\n",
    "\n",
    "# add a column to divie the time_to_generate_polygonal_mesh by the d_total_time\n",
    "df_speedup_uniform['speedup_with_copy'] = df_speedup_uniform['time_to_generate_polygonal_mesh'] / df_speedup_uniform['d_total_time']"
   ]
  },
  {
   "cell_type": "code",
   "execution_count": null,
   "metadata": {},
   "outputs": [
    {
     "ename": "",
     "evalue": "",
     "output_type": "error",
     "traceback": [
      "\u001b[1;31mRunning cells with '/usr/bin/python3' requires the ipykernel package.\n",
      "\u001b[1;31mRun the following command to install 'ipykernel' into the Python environment. \n",
      "\u001b[1;31mCommand: '/usr/bin/python3 -m pip install ipykernel -U --user --force-reinstall'"
     ]
    }
   ],
   "source": [
    "# sumar los tiempos de las diferentes operaciones\n",
    "CPU_data_time_uniform['d_total_time'] = CPU_data_time_uniform['time_to_label_max_edges'] + \\\n",
    "                                CPU_data_time_uniform['time_to_label_frontier_edges'] + \\\n",
    "                                CPU_data_time_uniform['time_to_label_seed_edges'] + \\\n",
    "                                CPU_data_time_uniform['time_to_traversal'] + \\\n",
    "                                CPU_data_time_uniform['time_to_repair']"
   ]
  },
  {
   "attachments": {},
   "cell_type": "markdown",
   "metadata": {},
   "source": [
    "# Gráficos grid"
   ]
  },
  {
   "cell_type": "code",
   "execution_count": null,
   "metadata": {},
   "outputs": [
    {
     "ename": "",
     "evalue": "",
     "output_type": "error",
     "traceback": [
      "\u001b[1;31mRunning cells with '/usr/bin/python3' requires the ipykernel package.\n",
      "\u001b[1;31mRun the following command to install 'ipykernel' into the Python environment. \n",
      "\u001b[1;31mCommand: '/usr/bin/python3 -m pip install ipykernel -U --user --force-reinstall'"
     ]
    }
   ],
   "source": [
    "# graficar la suma de los tiempos por n_vertices\n",
    "import matplotlib.pyplot as plt\n",
    "\n",
    "plt.plot(GPU_data_time_grid['n_vertices'], GPU_data_time_grid['d_total_time_no_copy'],  c=\"red\",marker=\"v\", label='GPU-noncopy')\n",
    "plt.plot(GPU_data_time_grid['n_vertices'], GPU_data_time_grid['d_total_time'],  c=\"green\",marker=\"v\", label='GPU')\n",
    "#plt.plot(CPU_data_time_grid['n_vertices'], CPU_data_time_grid['time_to_generate_polygonal_mesh'], c=\"blue\",marker=\"o\", label='CPU')\n",
    "plt.xlabel('n_vertices')\n",
    "plt.ylabel('Tiempo total')\n",
    "plt.yscale('log')\n",
    "plt.xscale('log')\n",
    "plt.title('Suma de tiempos por n_vertices grid')\n",
    "plt.legend()\n",
    "plt.show()\n",
    "\n",
    "# graficar la suma de los tiempos por n_vertices\n",
    "import matplotlib.pyplot as plt\n",
    "\n",
    "plt.plot(GPU_data_time_uniform['n_vertices'], GPU_data_time_uniform['d_total_time_no_copy'],  c=\"red\",marker=\"v\", label='GPU-noncopy')\n",
    "plt.plot(GPU_data_time_uniform['n_vertices'], GPU_data_time_uniform['d_total_time'],  c=\"green\",marker=\"v\", label='GPU')\n",
    "#plt.plot(CPU_data_time_uniform['n_vertices'], CPU_data_time_uniform['time_to_generate_polygonal_mesh'], c=\"blue\",marker=\"o\", label='CPU')\n",
    "plt.xlabel('n_vertices')\n",
    "plt.ylabel('Tiempo total')\n",
    "plt.title('Suma de tiempos por n_vertices uniform')\n",
    "plt.legend()\n",
    "plt.show()\n",
    "\n",
    "\n",
    "\n"
   ]
  },
  {
   "cell_type": "code",
   "execution_count": null,
   "metadata": {},
   "outputs": [
    {
     "ename": "",
     "evalue": "",
     "output_type": "error",
     "traceback": [
      "\u001b[1;31mRunning cells with '/usr/bin/python3' requires the ipykernel package.\n",
      "\u001b[1;31mRun the following command to install 'ipykernel' into the Python environment. \n",
      "\u001b[1;31mCommand: '/usr/bin/python3 -m pip install ipykernel -U --user --force-reinstall'"
     ]
    }
   ],
   "source": [
    "# Plot speedup\n",
    "plt.plot(df_speedup['n_vertices'], df_speedup['speedup'], c=\"green\",marker=\"o\", label='Speedup using uniform triangulation')\n",
    "plt.plot(df_speedup['n_vertices'], df_speedup['speedup_with_copy'], c=\"red\",marker=\"v\", label='Speedup with copy')\n",
    "plt.xlabel('Number of vertices')\n",
    "plt.ylabel('Speedup')\n",
    "plt.legend()\n",
    "#plt.yscale('log')\n",
    "plt.ticklabel_format(style='sci', useMathText=True,  axis='x', scilimits=(0,0))\n",
    "plt.savefig(r'speedup_uniform.pdf', bbox_inches='tight', dpi=300)\n",
    "plt.show()\n",
    "\n",
    "# Plot speedup\n",
    "plt.plot(df_speedup_uniform['n_vertices'], df_speedup_uniform['speedup'], c=\"green\",marker=\"o\", label='Speedup using Delaunay triangulation')\n",
    "plt.plot(df_speedup_uniform['n_vertices'], df_speedup_uniform['speedup_with_copy'], c=\"red\",marker=\"v\", label='Speedup with copy')\n",
    "plt.xlabel('Number of vertices')\n",
    "plt.ylabel('Speedup')\n",
    "#plt.yscale('log')\n",
    "\n",
    "plt.ticklabel_format(style='sci', useMathText=True,  axis='x', scilimits=(0,0))\n",
    "plt.legend()\n",
    "plt.savefig(r'speedup_delaunay.pdf', bbox_inches='tight', dpi=300)\n",
    "plt.show()\n",
    "\n",
    "\n",
    "print(df_speedup_uniform)\n"
   ]
  },
  {
   "attachments": {},
   "cell_type": "markdown",
   "metadata": {},
   "source": [
    "# Preguntas"
   ]
  },
  {
   "cell_type": "code",
   "execution_count": null,
   "metadata": {},
   "outputs": [
    {
     "ename": "",
     "evalue": "",
     "output_type": "error",
     "traceback": [
      "\u001b[1;31mRunning cells with '/usr/bin/python3' requires the ipykernel package.\n",
      "\u001b[1;31mRun the following command to install 'ipykernel' into the Python environment. \n",
      "\u001b[1;31mCommand: '/usr/bin/python3 -m pip install ipykernel -U --user --force-reinstall'"
     ]
    }
   ],
   "source": [
    "# Uniform\n",
    "print(\"\\n\\n\\n Uniform \\n\\n\\n\")\n",
    "# Cuanto es el promedio del speedup\n",
    "print(\"Promedio del speedup uniform: \", df_speedup['speedup'].mean())\n",
    "\n",
    "# Cuanto es el promedio del speedup con copia\n",
    "print(\"Promedio del speedup uniform con copia: \", df_speedup['speedup_with_copy'].mean())\n",
    "\n",
    "# Cuanto es el máximo del speedup\n",
    "print(\"Máximo del speedup uniform: \", df_speedup['speedup'].max())\n",
    "\n",
    "# Delaunay\n",
    "print(\"\\n\\n\\n Delaunay \\n\\n\\n\")\n",
    "# Cuanto es el promedio del speedup\n",
    "print(\"Promedio del speedup delaunay: \", df_speedup_uniform['speedup'].mean())\n",
    "\n",
    "# Cuanto es el promedio del speedup con copia\n",
    "print(\"Promedio del speedup delaunay con copia: \", df_speedup_uniform['speedup_with_copy'].mean())\n",
    "\n",
    "# Cuanto es el máximo del speedup\n",
    "print(\"Máximo del speedup delaunay: \", df_speedup_uniform['speedup'].max())\n",
    "\n",
    "\n",
    "# Tiempo promedi de copiar CPU a GPU es del 95.5% para la última columna\n"
   ]
  },
  {
   "cell_type": "markdown",
   "metadata": {},
   "source": []
  },
  {
   "attachments": {},
   "cell_type": "markdown",
   "metadata": {},
   "source": [
    "# gRAFICOPS POLYLLA\n"
   ]
  },
  {
   "cell_type": "code",
   "execution_count": null,
   "metadata": {},
   "outputs": [
    {
     "ename": "",
     "evalue": "",
     "output_type": "error",
     "traceback": [
      "\u001b[1;31mRunning cells with '/usr/bin/python3' requires the ipykernel package.\n",
      "\u001b[1;31mRun the following command to install 'ipykernel' into the Python environment. \n",
      "\u001b[1;31mCommand: '/usr/bin/python3 -m pip install ipykernel -U --user --force-reinstall'"
     ]
    }
   ],
   "source": [
    "# pLOT polylla phases \n",
    "# GPU\n",
    "plt.plot(GPU_data_time_uniform['n_vertices'], GPU_data_time_uniform['d_time_to_label_total'],  c=\"red\",marker=\"v\", label='GPU label')\n",
    "plt.plot(GPU_data_time_uniform['n_vertices'], GPU_data_time_uniform['d_time_to_traversal'],  c=\"green\",marker=\"v\", label='GPU traversal')\n",
    "plt.plot(GPU_data_time_uniform['n_vertices'], GPU_data_time_uniform['d_time_to_repair'],  c=\"blue\",marker=\"v\", label='GPU repair')\n",
    "plt.plot(GPU_data_time_uniform['n_vertices'], GPU_data_time_uniform['d_time_to_generate_polygonal_mesh'],  c=\"yellow\",marker=\"v\", label='GPU generate_polygonal_mesh')\n",
    "plt.plot(CPU_data_time_uniform['n_vertices'], CPU_data_time_uniform['time_to_label_total'],  c=\"red\",marker=\"o\", label='label')\n",
    "plt.plot(CPU_data_time_uniform['n_vertices'], CPU_data_time_uniform['time_to_traversal'],  c=\"green\",marker=\"o\", label='traversal')\n",
    "plt.plot(CPU_data_time_uniform['n_vertices'], CPU_data_time_uniform['time_to_repair'],  c=\"blue\",marker=\"o\", label='repair')\n",
    "plt.plot(CPU_data_time_uniform['n_vertices'], CPU_data_time_uniform['time_to_generate_polygonal_mesh'],  c=\"yellow\",marker=\"o\", label='generate_polygonal_mesh')\n",
    "plt.xlabel('n_vertices')\n",
    "plt.ylabel('Tiempo total')\n",
    "plt.legend()\n",
    "#loglog\n",
    "plt.yscale('log')\n",
    "plt.show()\n",
    "\n"
   ]
  },
  {
   "cell_type": "code",
   "execution_count": null,
   "metadata": {},
   "outputs": [
    {
     "ename": "",
     "evalue": "",
     "output_type": "error",
     "traceback": [
      "\u001b[1;31mRunning cells with '/usr/bin/python3' requires the ipykernel package.\n",
      "\u001b[1;31mRun the following command to install 'ipykernel' into the Python environment. \n",
      "\u001b[1;31mCommand: '/usr/bin/python3 -m pip install ipykernel -U --user --force-reinstall'"
     ]
    }
   ],
   "source": [
    "# GPU\n",
    "plt.stackplot(GPU_data_time_uniform['n_vertices'], \n",
    "              GPU_data_time_uniform['d_time_to_label_total'],\n",
    "              GPU_data_time_uniform['d_time_to_traversal'], \n",
    "              GPU_data_time_uniform['d_time_to_repair'],\n",
    "              GPU_data_time_uniform['d_time_to_generate_polygonal_mesh'],\n",
    "              labels=['label', 'traversal', 'repair', 'generate_polygonal_mesh'])\n",
    "plt.legend(loc='upper left')\n",
    "plt.show()\n",
    "\n",
    "# CPU\n",
    "plt.stackplot(CPU_data_time_uniform['n_vertices'], \n",
    "              CPU_data_time_uniform['time_to_label_total'],\n",
    "              CPU_data_time_uniform['time_to_traversal'], \n",
    "              CPU_data_time_uniform['time_to_repair'],\n",
    "              CPU_data_time_uniform['time_to_generate_polygonal_mesh'],\n",
    "              labels=['label', 'traversal', 'repair', 'generate_polygonal_mesh'])\n",
    "plt.legend(loc='upper left')\n",
    "plt.show()\n"
   ]
  },
  {
   "cell_type": "code",
   "execution_count": null,
   "metadata": {},
   "outputs": [
    {
     "ename": "",
     "evalue": "",
     "output_type": "error",
     "traceback": [
      "\u001b[1;31mRunning cells with '/usr/bin/python3' requires the ipykernel package.\n",
      "\u001b[1;31mRun the following command to install 'ipykernel' into the Python environment. \n",
      "\u001b[1;31mCommand: '/usr/bin/python3 -m pip install ipykernel -U --user --force-reinstall'"
     ]
    }
   ],
   "source": [
    "# bar plot d_time_to_label_total and d_time_to_traversal\n",
    "GPU_delaunay_barplot = GPU_data_time_uniform[['n_vertices', 'd_time_to_label_total', 'd_time_to_traversal', 'd_time_to_repair']].copy()\n",
    "#set n_vertices as index\n",
    "GPU_delaunay_barplot = GPU_delaunay_barplot.set_index('n_vertices')\n",
    "GPU_delaunay_barplot = GPU_delaunay_barplot.iloc[[int(i * (len(GPU_delaunay_barplot.index) - 1) / 7) for i in range(8)]]\n",
    "GPU_delaunay_barplot[['d_time_to_label_total', 'd_time_to_traversal']].plot(kind='bar', stacked=True)\n",
    "plt.show()\n",
    "\n",
    "# bar plot time_to_label_total, time_to_traversal and time_to_repair in CPU\n",
    "CPU_delaunay_barplot = CPU_data_time_uniform[['n_vertices', 'time_to_label_total', 'time_to_traversal', 'time_to_repair']].copy()\n",
    "#set n_vertices as index\n",
    "CPU_delaunay_barplot = CPU_delaunay_barplot.set_index('n_vertices')\n",
    "CPU_delaunay_barplot = CPU_delaunay_barplot.iloc[[int(i * (len(CPU_delaunay_barplot.index) - 1) / 7) for i in range(8)]]\n",
    "CPU_delaunay_barplot[['time_to_label_total', 'time_to_traversal', 'time_to_repair']].plot(kind='bar', stacked=True)\n",
    "plt.show()\n",
    "\n",
    "# Combinar los dos dataframes GPU_delaunay_barplot y CPU_delaunay_barplot\n",
    "# https://stackoverflow.com/questions/38013794/combine-two-dataframes-into-one-with-multiple-columns\n",
    "df = pd.concat([GPU_delaunay_barplot, CPU_delaunay_barplot], axis=1)\n",
    "df[['d_time_to_label_total', 'd_time_to_traversal', 'time_to_label_total', 'time_to_traversal', 'time_to_repair']].plot(kind='bar', stacked=True)\n",
    "#y log\n",
    "plt.yscale('log')\n",
    "plt.show()"
   ]
  },
  {
   "cell_type": "code",
   "execution_count": null,
   "metadata": {},
   "outputs": [
    {
     "ename": "",
     "evalue": "",
     "output_type": "error",
     "traceback": [
      "\u001b[1;31mRunning cells with '/usr/bin/python3' requires the ipykernel package.\n",
      "\u001b[1;31mRun the following command to install 'ipykernel' into the Python environment. \n",
      "\u001b[1;31mCommand: '/usr/bin/python3 -m pip install ipykernel -U --user --force-reinstall'"
     ]
    }
   ],
   "source": [
    "#color_label = '#FF8C00' # Naranja oscuro\n",
    "#color_travel = '#ADD8E6' # Azul claro\n",
    "\n",
    "color_label = '#FFC0CB' # Rosa pálido\n",
    "color_travel = '#006400' # Verde oscuro\n",
    "\n",
    "color_label = '#FFD700' # Amarillo\n",
    "color_travel = '#1E90FF' # Azul oscuro\n",
    "\n",
    "color_label = '#7CFC00' # Verde claro\n",
    "color_travel = '#8B0000' # Rojo oscuro\n",
    "\n",
    "color_label = '#00CED1' # Turquesa\n",
    "color_travel = '#9932CC' # Púrpura\n",
    "\n",
    "color_label = '#9370DB' # Morado\n",
    "color_travel = '#FAFAD2' # Amarillo pálido\n",
    "\n",
    "\n",
    "\n",
    "n_bars = 4\n",
    "\n",
    "# bar plot d_time_to_label_total and d_time_to_traversal\n",
    "GPU_delaunay_barplot = GPU_data_time_uniform[['n_vertices', 'd_time_to_label_total', 'd_time_to_traversal', 'd_time_to_repair']].copy()\n",
    "# Elegir n_bars filas equidistantes\n",
    "GPU_delaunay_barplot = GPU_delaunay_barplot.iloc[[int(i * (len(GPU_delaunay_barplot.index) - 1) / (n_bars - 1)) for i in range(n_bars)]]\n",
    "# Dejar últimas 4 columnas\n",
    "#GPU_delaunay_barplot = GPU_delaunay_barplot.tail(4)\n",
    "\n",
    "# bar plot time_to_label_total, time_to_traversal and time_to_repair in CPU\n",
    "CPU_delaunay_barplot = CPU_data_time_uniform[['n_vertices', 'time_to_label_total', 'time_to_traversal', 'time_to_repair']].copy()\n",
    "# Elegir n_bars filas equidistantes\n",
    "CPU_delaunay_barplot = CPU_delaunay_barplot.iloc[[int(i * (len(CPU_delaunay_barplot.index) - 1) / (n_bars - 1)) for i in range(n_bars)]]\n",
    "# Dejar últimas 4 columnas\n",
    "#CPU_delaunay_barplot = CPU_delaunay_barplot.tail(4)\n",
    "\n",
    "\n",
    "\n",
    "# Definir el ancho de las barras\n",
    "ancho = 0.2\n",
    "\n",
    "# Definir la posición de las barras\n",
    "posiciones = np.arange(len(GPU_delaunay_barplot))\n",
    "\n",
    "# Crear la figura y los ejes\n",
    "fig, ax = plt.subplots()\n",
    "\n",
    "# Crear las barras del dataframe GPU_delaunay_barplot\n",
    "ax.bar(\n",
    "    posiciones - ancho,\n",
    "    GPU_delaunay_barplot['d_time_to_label_total'],\n",
    "    width=ancho,\n",
    "    color=color_label,\n",
    "    label='d_time_to_label_total',\n",
    "    edgecolor='black'\n",
    ")\n",
    "\n",
    "ax.bar(\n",
    "    posiciones - ancho,\n",
    "    GPU_delaunay_barplot['d_time_to_traversal'],\n",
    "    width=ancho,\n",
    "    color=color_travel,\n",
    "    bottom=GPU_delaunay_barplot['d_time_to_label_total'] + GPU_delaunay_barplot['d_time_to_repair'],\n",
    "    label='d_time_to_traversal',\n",
    "    edgecolor='black'\n",
    ")\n",
    "\n",
    "\n",
    "\n",
    "#ax.bar(\n",
    "#    posiciones - ancho,\n",
    "#    GPU_delaunay_barplot['d_time_to_repair'],\n",
    "#    width=ancho,\n",
    "#    color='orange',\n",
    "#    bottom=GPU_delaunay_barplot['d_time_to_label_total'],\n",
    "#    label='d_time_to_repair'\n",
    "#)\n",
    "\n",
    "# Crear las barras del dataframe CPU_delaunay_barplot\n",
    "ax.bar(\n",
    "    posiciones,\n",
    "    CPU_delaunay_barplot['time_to_label_total'],\n",
    "    width=ancho,\n",
    "    color=color_label,\n",
    "    label='time_to_label_total',\n",
    "    edgecolor='black'\n",
    ")\n",
    "ax.bar(\n",
    "    posiciones,\n",
    "    CPU_delaunay_barplot['time_to_traversal'],\n",
    "    width=ancho,\n",
    "    color=color_travel,\n",
    "    bottom=CPU_delaunay_barplot['time_to_label_total'],\n",
    "    label='time_to_traversal',\n",
    "    edgecolor='black'\n",
    ")\n",
    "#ax.bar(\n",
    "#    posiciones,\n",
    "#    CPU_delaunay_barplot['time_to_repair'],\n",
    "#    width=ancho,\n",
    "#    color='orange',\n",
    "#    bottom=CPU_delaunay_barplot['time_to_label_total'] + CPU_delaunay_barplot['time_to_traversal'],\n",
    "#    label='time_to_repair',\n",
    "#    edgecolor='black'\n",
    "#)\n",
    "\n",
    "\n",
    "# Configurar los ejes y la leyenda\n",
    "ax.set_xlabel('n_vertices')\n",
    "ax.set_ylabel('time in seconds (log scale)')\n",
    "ax.set_xticks(posiciones - ancho / 2)\n",
    "ax.set_xticklabels(GPU_delaunay_barplot['n_vertices'])\n",
    "ax.legend()\n",
    "#log\n",
    "plt.yscale('log')\n",
    "\n",
    "#Mostrar el gráfico\n",
    "\n",
    "plt.show()"
   ]
  },
  {
   "cell_type": "code",
   "execution_count": null,
   "metadata": {},
   "outputs": [
    {
     "ename": "",
     "evalue": "",
     "output_type": "error",
     "traceback": [
      "\u001b[1;31mRunning cells with '/usr/bin/python3' requires the ipykernel package.\n",
      "\u001b[1;31mRun the following command to install 'ipykernel' into the Python environment. \n",
      "\u001b[1;31mCommand: '/usr/bin/python3 -m pip install ipykernel -U --user --force-reinstall'"
     ]
    }
   ],
   "source": [
    "import matplotlib.pyplot as plt\n",
    "import pandas as pd\n",
    "\n",
    "\n",
    "#GPU_delaunay_barplot = GPU_data_time_uniform[['n_vertices', 'd_time_to_label_total', 'd_time_to_traversal', 'd_time_to_repair']].copy()\n",
    "#CPU_delaunay_barplot = CPU_data_time_uniform[['n_vertices', 'time_to_label_total', 'time_to_traversal', 'time_to_repair']].copy()\n",
    "\n",
    "GPU_delaunay = GPU_data_time_uniform[['n_vertices', 'd_time_to_label_max_edges', 'd_time_to_label_frontier_edges', 'd_time_to_label_seed_edges', 'd_time_to_label_scan_edges', 'd_time_to_label_compaction_edges', 'd_time_to_traversal', 'd_time_to_traversal_search_frontier_edge']].copy()\n",
    "\n",
    "# sum d_time_copy_to_device and d_time_to_back_to_host to a column called d_time_to_copy\n",
    "#GPU_delaunay['d_time_to_copy'] = GPU_data_time_uniform['d_time_copy_to_device'] + GPU_data_time_uniform['d_time_to_back_to_host']\n",
    "\n",
    "CPU_delaunay = CPU_data_time_uniform[['n_vertices', 'time_to_label_max_edges', 'time_to_label_frontier_edges', 'time_to_label_seed_edges', 'time_to_traversal', 'time_to_repair']].copy()\n",
    "\n",
    "# Get the last row of each dataframe\n",
    "GPU_last_row = GPU_delaunay.iloc[-1]\n",
    "CPU_last_row = CPU_delaunay.iloc[-1]\n",
    "\n",
    "\n",
    "# Create pie chart for GPU dataframe\n",
    "labels = GPU_last_row.index[1:]\n",
    "values = GPU_last_row[1:]\n",
    "plt.pie(values, autopct='%1.1f%%', startangle=90)\n",
    "plt.legend(labels=labels, loc='lower center', bbox_to_anchor=(0.5, -0.2), ncol=2)\n",
    "#save pdf\n",
    "plt.savefig('GPU_delaunay_pieplot.pdf')\n",
    "plt.show()\n",
    "\n",
    "\n",
    "# Create pie chart for CPU dataframe\n",
    "labels = CPU_last_row.index[1:]\n",
    "values = CPU_last_row[1:]\n",
    "plt.pie(values, autopct='%1.1f%%', startangle=90)\n",
    "#save pdf\n",
    "\n",
    "plt.legend(labels=labels, loc='lower center', bbox_to_anchor=(0.5, -0.2), ncol=2)\n",
    "plt.savefig('CPU_delaunay_pieplot.pdf')\n",
    "\n",
    "plt.show()"
   ]
  },
  {
   "cell_type": "markdown",
   "metadata": {},
   "source": []
  },
  {
   "cell_type": "code",
   "execution_count": null,
   "metadata": {},
   "outputs": [
    {
     "ename": "",
     "evalue": "",
     "output_type": "error",
     "traceback": [
      "\u001b[1;31mRunning cells with '/usr/bin/python3' requires the ipykernel package.\n",
      "\u001b[1;31mRun the following command to install 'ipykernel' into the Python environment. \n",
      "\u001b[1;31mCommand: '/usr/bin/python3 -m pip install ipykernel -U --user --force-reinstall'"
     ]
    }
   ],
   "source": [
    "#plt.plot(GPU_data_time_uniform['n_vertices'], GPU_data_time_uniform['d_total_time_no_copy'],  c=\"red\",marker=\"v\", label='GPU-noncopy')\n",
    "plt.plot(GPU_data_time_uniform['n_vertices'], GPU_data_time_uniform['d_total_time'],  c=\"green\",marker=\"v\", label='GPU')\n",
    "plt.plot(CPU_data_time_uniform['n_vertices'], CPU_data_time_uniform['d_total_time'],  c=\"red\",marker=\"v\", label='CPU')\n",
    "#plt.plot(CPU_data_time_uniform['n_vertices'], CPU_data_time_uniform['time_to_generate_polygonal_mesh'], c=\"blue\",marker=\"o\", label='CPU')\n",
    "plt.xlabel('# vertices')\n",
    "plt.ylabel('Time')\n",
    "#plt.title('Suma de tiempos por n_vertices uniform')\n",
    "plt.legend()\n",
    "\n",
    "# save pdf\n",
    "plt.savefig('time_uniform.pdf')\n",
    "\n",
    "plt.show()"
   ]
  },
  {
   "cell_type": "code",
   "execution_count": null,
   "metadata": {},
   "outputs": [
    {
     "ename": "",
     "evalue": "",
     "output_type": "error",
     "traceback": [
      "\u001b[1;31mRunning cells with '/usr/bin/python3' requires the ipykernel package.\n",
      "\u001b[1;31mRun the following command to install 'ipykernel' into the Python environment. \n",
      "\u001b[1;31mCommand: '/usr/bin/python3 -m pip install ipykernel -U --user --force-reinstall'"
     ]
    }
   ],
   "source": [
    "#plt.plot(GPU_data_time_uniform['n_vertices'], GPU_data_time_uniform['d_total_time_no_copy'],  c=\"red\",marker=\"v\", label='GPU-noncopy')\n",
    "plt.plot(GPU_data_time_grid['n_vertices'], GPU_data_time_grid['d_total_time'],  c=\"green\",marker=\"v\", label='GPU')\n",
    "plt.plot(CPU_data_time_grid['n_vertices'], CPU_data_time_grid['d_total_time'],  c=\"red\",marker=\"v\", label='CPU')\n",
    "#plt.plot(CPU_data_time_uniform['n_vertices'], CPU_data_time_uniform['time_to_generate_polygonal_mesh'], c=\"blue\",marker=\"o\", label='CPU')\n",
    "plt.xlabel('# vertices')\n",
    "plt.ylabel('Time')\n",
    "#plt.title('Suma de tiempos por n_vertices uniform')\n",
    "plt.legend()\n",
    "\n",
    "# save pdf\n",
    "plt.savefig('time_grid.pdf')\n",
    "\n",
    "plt.show()"
   ]
  },
  {
   "cell_type": "code",
   "execution_count": null,
   "metadata": {},
   "outputs": [
    {
     "ename": "",
     "evalue": "",
     "output_type": "error",
     "traceback": [
      "\u001b[1;31mRunning cells with '/usr/bin/python3' requires the ipykernel package.\n",
      "\u001b[1;31mRun the following command to install 'ipykernel' into the Python environment. \n",
      "\u001b[1;31mCommand: '/usr/bin/python3 -m pip install ipykernel -U --user --force-reinstall'"
     ]
    }
   ],
   "source": [
    "print(CPU_data_time_grid['d_total_time']/GPU_data_time_grid['d_total_time'])"
   ]
  },
  {
   "cell_type": "code",
   "execution_count": null,
   "metadata": {},
   "outputs": [
    {
     "ename": "",
     "evalue": "",
     "output_type": "error",
     "traceback": [
      "\u001b[1;31mRunning cells with '/usr/bin/python3' requires the ipykernel package.\n",
      "\u001b[1;31mRun the following command to install 'ipykernel' into the Python environment. \n",
      "\u001b[1;31mCommand: '/usr/bin/python3 -m pip install ipykernel -U --user --force-reinstall'"
     ]
    }
   ],
   "source": [
    "print(CPU_data_time_uniform['d_total_time']/GPU_data_time_uniform['d_total_time'])"
   ]
  }
 ],
 "metadata": {
  "kernelspec": {
   "display_name": "Python 3.8.10 64-bit",
   "language": "python",
   "name": "python3"
  },
  "language_info": {
   "codemirror_mode": {
    "name": "ipython",
    "version": 3
   },
   "file_extension": ".py",
   "mimetype": "text/x-python",
   "name": "python",
   "nbconvert_exporter": "python",
   "pygments_lexer": "ipython3",
   "version": "3.10.12"
  },
  "orig_nbformat": 4,
  "vscode": {
   "interpreter": {
    "hash": "916dbcbb3f70747c44a77c7bcd40155683ae19c65e1c03b4aa3499c5328201f1"
   }
  }
 },
 "nbformat": 4,
 "nbformat_minor": 2
}
