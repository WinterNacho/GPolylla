{
 "cells": [
  {
   "attachments": {},
   "cell_type": "markdown",
   "metadata": {},
   "source": [
    "# Triangulation generation\n",
    "\n",
    "Se generan triangulaciones de mañano N tal que:\n",
    "\n",
    "- $\\sqrt(N) \\in \\mathbb{Z}$\n",
    "- num fila y columna es par\n",
    "\n",
    "Ej: 100 = 10 * 10"
   ]
  },
  {
   "cell_type": "code",
   "execution_count": 1,
   "metadata": {},
   "outputs": [
    {
     "ename": "",
     "evalue": "",
     "output_type": "error",
     "traceback": [
      "\u001b[1;31mCanceled future for execute_request message before replies were done"
     ]
    },
    {
     "ename": "",
     "evalue": "",
     "output_type": "error",
     "traceback": [
      "\u001b[1;31mThe Kernel crashed while executing code in the the current cell or a previous cell. Please review the code in the cell(s) to identify a possible cause of the failure. Click <a href='https://aka.ms/vscodeJupyterKernelCrash'>here</a> for more info. View Jupyter <a href='command:jupyter.viewOutput'>log</a> for further details."
     ]
    }
   ],
   "source": [
    "import math\n",
    "\n",
    "N = 100000000\n",
    "size = int(math.sqrt(N))\n",
    "points = []\n",
    "for y in range(0,size):\n",
    "    for x in range(0,size):\n",
    "        points.append((x,y))\n",
    "\n"
   ]
  },
  {
   "cell_type": "code",
   "execution_count": 12,
   "metadata": {},
   "outputs": [],
   "source": [
    "\n",
    "triangles = []\n",
    "\n",
    "for p in points:\n",
    "    x = p[0]\n",
    "    y = p[1]\n",
    "    if x == size-1 or y == size-1:\n",
    "        continue\n",
    "    #T1\n",
    "    triangles.append((x,y))\n",
    "    triangles.append((x, y+1))\n",
    "    triangles.append((x+1, y+1))\n",
    "    #T2\n",
    "    triangles.append((x,y))\n",
    "    triangles.append((x+1, y))\n",
    "    triangles.append((x+1, y+1))\n",
    "\n",
    "    ##print( (x,y), (x, y+1), (x+1, y+1) )\n",
    "    ##print( (x,y), (x+1, y), (x+1, y+1) )"
   ]
  },
  {
   "cell_type": "code",
   "execution_count": 13,
   "metadata": {},
   "outputs": [],
   "source": [
    "# Get set of indices of points in array}\n",
    "def get_indices(points, triangles):\n",
    "    indices = []\n",
    "    for t in triangles:\n",
    "        indices.append(points.index(t))\n",
    "    return indices\n",
    "\n",
    "triangles_indices = get_indices(points, triangles)"
   ]
  },
  {
   "cell_type": "code",
   "execution_count": 14,
   "metadata": {},
   "outputs": [],
   "source": [
    "## print OFF file using the array points and triangles_indices\n",
    "def print_off(points, triangles_indices):\n",
    "    print(\"OFF\")\n",
    "    print(len(points), int(len(triangles_indices)/3), 0)\n",
    "    for p in points:\n",
    "        print(p[0], p[1], 0)\n",
    "    for t in range(0,len(triangles_indices),3):\n",
    "        print(\"3\", triangles_indices[t], triangles_indices[t+1], triangles_indices[t+2])\n",
    "\n",
    "## write an OFF file using the array points and triangles_indices\n",
    "def write_off(points, triangles_indices, filename):\n",
    "    with open(filename, 'w') as f:\n",
    "        f.write(\"OFF\\n\")\n",
    "        f.write(str(len(points)) + \" \" + str(int(len(triangles_indices)/3)) + \" 0\\n\")\n",
    "        for p in points:\n",
    "            f.write(str(p[0]) + \" \" + str(p[1]) + \" 0\\n\")\n",
    "        for t in range(0,len(triangles_indices),3):\n",
    "            f.write(\"3 \" + str(triangles_indices[t]) + \" \" + str(triangles_indices[t+1]) + \" \" + str(triangles_indices[t+2]) + \"\\n\") \n",
    "\n",
    "write_off(points, triangles_indices, \"big_mesh.off\")\n"
   ]
  },
  {
   "attachments": {},
   "cell_type": "markdown",
   "metadata": {},
   "source": [
    "# Second Method"
   ]
  },
  {
   "cell_type": "code",
   "execution_count": null,
   "metadata": {},
   "outputs": [],
   "source": [
    "import math\n",
    "tri = []\n",
    "\n",
    "N=25000000\n",
    "sqrtN = int(math.sqrt(N))\n",
    "for i in range(int(N-sqrtN)):\n",
    "    if i % sqrtN != sqrtN - 1:\n",
    "        #tri.append(str(i)+\" \"+str(int(i+1))+\" \"+str(int(i+sqrtN+1)))\n",
    "        #tri.append(str(i)+\" \"+str(int(i+sqrtN+1))+\" \"+str(int(i+sqrtN)))\n",
    "        tri.append(i)\n",
    "        tri.append(int(i+1))\n",
    "        tri.append(int(i+sqrtN+1))\n",
    "        tri.append(i)\n",
    "        tri.append(int(i+sqrtN+1))\n",
    "        tri.append(int(i+sqrtN))"
   ]
  },
  {
   "cell_type": "code",
   "execution_count": null,
   "metadata": {},
   "outputs": [],
   "source": [
    "points = []\n",
    "for y in range(0,sqrtN):\n",
    "    for x in range(0,sqrtN):\n",
    "        points.append((x,y))\n",
    "\n",
    "## write an OFF file using the array points and triangles_indices\n",
    "def write_off(points, triangles_indices, filename):\n",
    "    with open(filename, 'w') as f:\n",
    "        f.write(\"OFF\\n\")\n",
    "        f.write(str(len(points)) + \" \" + str(int(len(triangles_indices)/3)) + \" 0\\n\")\n",
    "        for p in points:\n",
    "            f.write(str(p[0]) + \" \" + str(p[1]) + \" 0\\n\")\n",
    "        for t in range(0,len(triangles_indices),3):\n",
    "            f.write(\"3 \" + str(triangles_indices[t]) + \" \" + str(triangles_indices[t+1]) + \" \" + str(triangles_indices[t+2]) + \"\\n\") \n",
    "\n",
    "\n",
    "write_off(points, tri, \"big_mesh.off\")\n"
   ]
  }
 ],
 "metadata": {
  "kernelspec": {
   "display_name": "Python 3",
   "language": "python",
   "name": "python3"
  },
  "language_info": {
   "codemirror_mode": {
    "name": "ipython",
    "version": 3
   },
   "file_extension": ".py",
   "mimetype": "text/x-python",
   "name": "python",
   "nbconvert_exporter": "python",
   "pygments_lexer": "ipython3",
   "version": "3.10.6"
  },
  "orig_nbformat": 4,
  "vscode": {
   "interpreter": {
    "hash": "31f2aee4e71d21fbe5cf8b01ff0e069b9275f58929596ceb00d14d90e3e16cd6"
   }
  }
 },
 "nbformat": 4,
 "nbformat_minor": 2
}
